{
 "cells": [
  {
   "cell_type": "code",
   "execution_count": 381,
   "id": "7371fb4d",
   "metadata": {},
   "outputs": [],
   "source": [
    "#import the library pandas\n",
    "import pandas as pd"
   ]
  },
  {
   "cell_type": "code",
   "execution_count": 382,
   "id": "82d9b4bd",
   "metadata": {},
   "outputs": [],
   "source": [
    "#import numpy\n",
    "import numpy as np"
   ]
  },
  {
   "cell_type": "code",
   "execution_count": 383,
   "id": "48373b3f",
   "metadata": {},
   "outputs": [],
   "source": [
    "S = [['him','sell'],[90,28,43]]"
   ]
  },
  {
   "cell_type": "code",
   "execution_count": 384,
   "id": "a812709e",
   "metadata": {},
   "outputs": [
    {
     "name": "stdout",
     "output_type": "stream",
     "text": [
      "e\n"
     ]
    }
   ],
   "source": [
    "print (S[0][1][1])"
   ]
  },
  {
   "cell_type": "code",
   "execution_count": 385,
   "id": "44cbdef5",
   "metadata": {},
   "outputs": [],
   "source": [
    "my_tuppy = (1,2,5,8)"
   ]
  },
  {
   "cell_type": "code",
   "execution_count": 386,
   "id": "32132a0b",
   "metadata": {},
   "outputs": [
    {
     "name": "stdout",
     "output_type": "stream",
     "text": [
      "5\n"
     ]
    }
   ],
   "source": [
    "print (my_tuppy[2])"
   ]
  },
  {
   "cell_type": "code",
   "execution_count": 387,
   "id": "7a7b59ae",
   "metadata": {},
   "outputs": [],
   "source": [
    "#Importing the dataset by reading the CSV file\n",
    "food_balance_sheet = pd.read_csv (\"C://Users/User/Downloads/FoodBalanceSheets_E_Africa_NOFLAG.csv\", encoding='latin-1')"
   ]
  },
  {
   "cell_type": "code",
   "execution_count": 388,
   "id": "9d7130bc",
   "metadata": {},
   "outputs": [
    {
     "name": "stdout",
     "output_type": "stream",
     "text": [
      "       Area Code      Area  Item Code           Item  Element Code  \\\n",
      "0              4   Algeria       2501     Population           511   \n",
      "1              4   Algeria       2501     Population          5301   \n",
      "2              4   Algeria       2901    Grand Total           664   \n",
      "3              4   Algeria       2901    Grand Total           674   \n",
      "4              4   Algeria       2901    Grand Total           684   \n",
      "...          ...       ...        ...            ...           ...   \n",
      "60938        181  Zimbabwe       2899  Miscellaneous          5142   \n",
      "60939        181  Zimbabwe       2899  Miscellaneous           645   \n",
      "60940        181  Zimbabwe       2899  Miscellaneous           664   \n",
      "60941        181  Zimbabwe       2899  Miscellaneous           674   \n",
      "60942        181  Zimbabwe       2899  Miscellaneous           684   \n",
      "\n",
      "                                      Element             Unit     Y2014  \\\n",
      "0               Total Population - Both sexes     1000 persons  38924.00   \n",
      "1                    Domestic supply quantity      1000 tonnes      0.00   \n",
      "2               Food supply (kcal/capita/day)  kcal/capita/day   3377.00   \n",
      "3      Protein supply quantity (g/capita/day)     g/capita/day     94.90   \n",
      "4          Fat supply quantity (g/capita/day)     g/capita/day     80.06   \n",
      "...                                       ...              ...       ...   \n",
      "60938                                    Food      1000 tonnes     42.00   \n",
      "60939     Food supply quantity (kg/capita/yr)               kg      3.06   \n",
      "60940           Food supply (kcal/capita/day)  kcal/capita/day      3.00   \n",
      "60941  Protein supply quantity (g/capita/day)     g/capita/day      0.10   \n",
      "60942      Fat supply quantity (g/capita/day)     g/capita/day      0.04   \n",
      "\n",
      "          Y2015     Y2016     Y2017     Y2018  \n",
      "0      39728.00  40551.00  41389.00  42228.00  \n",
      "1          0.00      0.00      0.00      0.00  \n",
      "2       3379.00   3372.00   3341.00   3322.00  \n",
      "3         94.35     94.72     92.82     91.83  \n",
      "4         79.36     77.40     80.19     77.28  \n",
      "...         ...       ...       ...       ...  \n",
      "60938     46.00     33.00     19.00     16.00  \n",
      "60939      3.33      2.35      1.33      1.08  \n",
      "60940      4.00      3.00      1.00      1.00  \n",
      "60941      0.11      0.08      0.04      0.04  \n",
      "60942      0.05      0.03      0.02      0.01  \n",
      "\n",
      "[60943 rows x 12 columns]\n"
     ]
    }
   ],
   "source": [
    "print (food_balance_sheet)"
   ]
  },
  {
   "cell_type": "code",
   "execution_count": 389,
   "id": "25df3afd",
   "metadata": {},
   "outputs": [],
   "source": [
    "#Total sum of Animal Fat produced in 2014\n",
    "food_balance_sheet2 = food_balance_sheet.groupby ('Item') ['Y2014'].sum()"
   ]
  },
  {
   "cell_type": "code",
   "execution_count": 390,
   "id": "4b3c0383",
   "metadata": {},
   "outputs": [
    {
     "name": "stdout",
     "output_type": "stream",
     "text": [
      "Item\n",
      "Alcohol, Non-Food        2403.00\n",
      "Alcoholic Beverages    102410.11\n",
      "Animal Products         11935.65\n",
      "Animal fats            209460.54\n",
      "Apples and products      9499.23\n",
      "                         ...    \n",
      "Vegetables, Other      155038.96\n",
      "Vegetal Products       107145.19\n",
      "Wheat and products     232670.13\n",
      "Wine                     4497.36\n",
      "Yams                   200396.96\n",
      "Name: Y2014, Length: 119, dtype: float64\n"
     ]
    }
   ],
   "source": [
    "print (food_balance_sheet2)"
   ]
  },
  {
   "cell_type": "code",
   "execution_count": 391,
   "id": "4c22607e",
   "metadata": {},
   "outputs": [],
   "source": [
    "#Total sum of Animal Fat produced in 2017\n",
    "food_balance_sheet3 = food_balance_sheet.groupby ('Item') ['Y2017'].sum()"
   ]
  },
  {
   "cell_type": "code",
   "execution_count": 392,
   "id": "c0681985",
   "metadata": {},
   "outputs": [
    {
     "name": "stdout",
     "output_type": "stream",
     "text": [
      "Item\n",
      "Alcohol, Non-Food        2348.00\n",
      "Alcoholic Beverages     95581.06\n",
      "Animal Products         11547.65\n",
      "Animal fats            269617.53\n",
      "Apples and products     10198.90\n",
      "                         ...    \n",
      "Vegetables, Other      157752.59\n",
      "Vegetal Products       107655.20\n",
      "Wheat and products     240047.62\n",
      "Wine                     4178.02\n",
      "Yams                   229174.59\n",
      "Name: Y2017, Length: 119, dtype: float64\n"
     ]
    }
   ],
   "source": [
    "print (food_balance_sheet3)"
   ]
  },
  {
   "cell_type": "code",
   "execution_count": 393,
   "id": "bc412fc7",
   "metadata": {},
   "outputs": [],
   "source": [
    "#Total number of missing data in 2016\n",
    "food_balance_sheet4 = food_balance_sheet.isnull() ['Y2016'].sum()"
   ]
  },
  {
   "cell_type": "code",
   "execution_count": 394,
   "id": "70ea43cf",
   "metadata": {},
   "outputs": [
    {
     "name": "stdout",
     "output_type": "stream",
     "text": [
      "1535\n"
     ]
    }
   ],
   "source": [
    "print (food_balance_sheet4)"
   ]
  },
  {
   "cell_type": "code",
   "execution_count": 395,
   "id": "72e4c915",
   "metadata": {},
   "outputs": [],
   "source": [
    "#The year with the highest correlation with Element Code\n",
    "food_balance_sheet5 = food_balance_sheet.groupby('Element Code').count()"
   ]
  },
  {
   "cell_type": "code",
   "execution_count": 396,
   "id": "6e869ae6",
   "metadata": {},
   "outputs": [
    {
     "name": "stdout",
     "output_type": "stream",
     "text": [
      "              Area Code  Area  Item Code  Item  Element  Unit  Y2014  Y2015  \\\n",
      "Element Code                                                                  \n",
      "511                  45    45         45    45       45    45     45     45   \n",
      "645                4905  4905       4905  4905     4905  4905   4860   4865   \n",
      "664                5014  5014       5014  5014     5014  5014   4947   4955   \n",
      "674                5023  5023       5023  5023     5023  5023   4963   4971   \n",
      "684                5023  5023       5023  5023     5023  5023   4965   4974   \n",
      "5072               4232  4232       4232  4232     4232  4232   4230   4229   \n",
      "5123               2009  2009       2009  2009     2009  2009   2009   2009   \n",
      "5131               2010  2010       2010  2010     2010  2010   1987   1995   \n",
      "5142               4941  4941       4941  4941     4941  4941   4896   4901   \n",
      "5154               1732  1732       1732  1732     1732  1732   1662   1667   \n",
      "5170               4655  4655       4655  4655     4655  4655   4604   4605   \n",
      "5171                555   555        555   555      555   555    555    555   \n",
      "5301               5295  5295       5295  5295     5295  5295   5244   5245   \n",
      "5511               3881  3881       3881  3881     3881  3881   3830   3828   \n",
      "5521               1319  1319       1319  1319     1319  1319   1216   1177   \n",
      "5527                762   762        762   762      762   762    762    759   \n",
      "5611               5139  5139       5139  5139     5139  5139   4919   4911   \n",
      "5911               4403  4403       4403  4403     4403  4403   3660   3704   \n",
      "\n",
      "              Y2016  Y2017  Y2018  \n",
      "Element Code                       \n",
      "511              45     45     45  \n",
      "645            4874   4876   4877  \n",
      "664            4963   4965   4969  \n",
      "674            4978   4980   4986  \n",
      "684            4980   4982   4987  \n",
      "5072           4231   4231   4217  \n",
      "5123           2009   2009   2008  \n",
      "5131           1996   1998   2003  \n",
      "5142           4910   4912   4913  \n",
      "5154           1634   1619   1655  \n",
      "5170           4610   4618   4616  \n",
      "5171            555    555    555  \n",
      "5301           5250   5258   5256  \n",
      "5511           3838   3829   3846  \n",
      "5521           1215   1213   1225  \n",
      "5527            759    758    758  \n",
      "5611           4908   4929   4945  \n",
      "5911           3653   3660   3646  \n"
     ]
    }
   ],
   "source": [
    "print (food_balance_sheet5)"
   ]
  },
  {
   "cell_type": "code",
   "execution_count": 397,
   "id": "a024a883",
   "metadata": {},
   "outputs": [],
   "source": [
    "#Year with highest sum of Import Quantity\n",
    "food_balance_sheet6 = food_balance_sheet.groupby('Element').sum()"
   ]
  },
  {
   "cell_type": "code",
   "execution_count": 374,
   "id": "1b88c134",
   "metadata": {},
   "outputs": [
    {
     "name": "stdout",
     "output_type": "stream",
     "text": [
      "                                        Area Code  Item Code  Element Code  \\\n",
      "Element                                                                      \n",
      "Domestic supply quantity                   708993   14197445      28068795   \n",
      "Export Quantity                            599910   11840553      26026133   \n",
      "Fat supply quantity (g/capita/day)         675050   13535000       3435732   \n",
      "Feed                                       176272    3538507       7282199   \n",
      "Food                                       663295   13285035      25406622   \n",
      "Food supply (kcal/capita/day)              674057   13511060       3329296   \n",
      "Food supply quantity (kg/capita/yr)        658446   13185401       3163725   \n",
      "Import Quantity                            688174   13795966      28834929   \n",
      "Losses                                     274353    5424803      10292107   \n",
      "Other uses (non-food)                      235554    4729749       8926728   \n",
      "Processing                                 271940    5350416      10313310   \n",
      "Production                                 526751   10450053      21388191   \n",
      "Protein supply quantity (g/capita/day)     675050   13535000       3385502   \n",
      "Residuals                                  623271   12421089      24066350   \n",
      "Seed                                       103537    2035933       4211574   \n",
      "Stock Variation                            571566   11329527      21464704   \n",
      "Total Population - Both sexes                6020     112545         22995   \n",
      "Tourist consumption                         50308    1486528       2869905   \n",
      "\n",
      "                                             Y2014       Y2015       Y2016  \\\n",
      "Element                                                                      \n",
      "Domestic supply quantity                1996716.35  2021493.55  2044842.70   \n",
      "Export Quantity                          150020.64   157614.47   151920.46   \n",
      "Fat supply quantity (g/capita/day)        10225.56    10235.74    10102.77   \n",
      "Feed                                     216927.89   225050.22   228958.65   \n",
      "Food                                    1212332.49  1232361.10  1247022.17   \n",
      "Food supply (kcal/capita/day)            454257.00   453383.00   451810.00   \n",
      "Food supply quantity (kg/capita/yr)       49650.63    49345.13    48985.28   \n",
      "Import Quantity                          274144.48   267018.46   286582.78   \n",
      "Losses                                   153223.00   155439.00   157787.00   \n",
      "Other uses (non-food)                     78718.13    66254.41    69563.68   \n",
      "Processing                               282923.00   287929.00   280631.00   \n",
      "Production                              1931287.75  1947019.39  1943537.15   \n",
      "Protein supply quantity (g/capita/day)    11836.46    11833.95    11779.69   \n",
      "Residuals                                 30149.00    30045.00    37224.00   \n",
      "Seed                                      21922.92    23976.82    23389.20   \n",
      "Stock Variation                           58749.83    34910.99    33140.12   \n",
      "Total Population - Both sexes           1031585.00  1058081.00  1085107.00   \n",
      "Tourist consumption                         416.00      349.00       89.00   \n",
      "\n",
      "                                             Y2017       Y2018  \n",
      "Element                                                         \n",
      "Domestic supply quantity                2088198.10  2161192.10  \n",
      "Export Quantity                          182338.80   181594.80  \n",
      "Fat supply quantity (g/capita/day)        10253.84    10258.69  \n",
      "Feed                                     223705.68   233489.68  \n",
      "Food                                    1258888.28  1303841.28  \n",
      "Food supply (kcal/capita/day)            454681.00   455261.00  \n",
      "Food supply quantity (kg/capita/yr)       48690.04    49056.85  \n",
      "Import Quantity                          294559.09   287997.09  \n",
      "Losses                                   160614.00   163902.00  \n",
      "Other uses (non-food)                     91645.97    91300.97  \n",
      "Processing                               292836.00   308429.00  \n",
      "Production                              2030056.89  2075072.89  \n",
      "Protein supply quantity (g/capita/day)    11842.45    11833.56  \n",
      "Residuals                                 35500.00    34864.00  \n",
      "Seed                                      24870.14    25263.14  \n",
      "Stock Variation                           54316.91    20577.91  \n",
      "Total Population - Both sexes           1112641.00  1140605.00  \n",
      "Tourist consumption                          91.00       90.00  \n"
     ]
    }
   ],
   "source": [
    "print (food_balance_sheet6)\n",
    "#Year with highest Import Quantity is 2017 with a value of 294559.09"
   ]
  },
  {
   "cell_type": "code",
   "execution_count": 377,
   "id": "ef4fd224",
   "metadata": {},
   "outputs": [],
   "source": [
    "#Total number of the sum of Production in 2014\n",
    "food_balance_sheet7 = food_balance_sheet.groupby('Element')['Y2014'].sum()"
   ]
  },
  {
   "cell_type": "code",
   "execution_count": 376,
   "id": "3f48b849",
   "metadata": {},
   "outputs": [
    {
     "name": "stdout",
     "output_type": "stream",
     "text": [
      "Element\n",
      "Domestic supply quantity                  1996716.35\n",
      "Export Quantity                            150020.64\n",
      "Fat supply quantity (g/capita/day)          10225.56\n",
      "Feed                                       216927.89\n",
      "Food                                      1212332.49\n",
      "Food supply (kcal/capita/day)              454257.00\n",
      "Food supply quantity (kg/capita/yr)         49650.63\n",
      "Import Quantity                            274144.48\n",
      "Losses                                     153223.00\n",
      "Other uses (non-food)                       78718.13\n",
      "Processing                                 282923.00\n",
      "Production                                1931287.75\n",
      "Protein supply quantity (g/capita/day)      11836.46\n",
      "Residuals                                   30149.00\n",
      "Seed                                        21922.92\n",
      "Stock Variation                             58749.83\n",
      "Total Population - Both sexes             1031585.00\n",
      "Tourist consumption                           416.00\n",
      "Name: Y2014, dtype: float64\n"
     ]
    }
   ],
   "source": [
    "print (food_balance_sheet7)"
   ]
  },
  {
   "cell_type": "code",
   "execution_count": 379,
   "id": "5f9fffcd",
   "metadata": {},
   "outputs": [],
   "source": [
    "#Element with the highest sum in 2018\n",
    "food_balance_sheet8 = food_balance_sheet.groupby('Element')['Y2018'].sum()"
   ]
  },
  {
   "cell_type": "code",
   "execution_count": 380,
   "id": "9feaf190",
   "metadata": {},
   "outputs": [
    {
     "name": "stdout",
     "output_type": "stream",
     "text": [
      "Element\n",
      "Domestic supply quantity                  2161192.10\n",
      "Export Quantity                            181594.80\n",
      "Fat supply quantity (g/capita/day)          10258.69\n",
      "Feed                                       233489.68\n",
      "Food                                      1303841.28\n",
      "Food supply (kcal/capita/day)              455261.00\n",
      "Food supply quantity (kg/capita/yr)         49056.85\n",
      "Import Quantity                            287997.09\n",
      "Losses                                     163902.00\n",
      "Other uses (non-food)                       91300.97\n",
      "Processing                                 308429.00\n",
      "Production                                2075072.89\n",
      "Protein supply quantity (g/capita/day)      11833.56\n",
      "Residuals                                   34864.00\n",
      "Seed                                        25263.14\n",
      "Stock Variation                             20577.91\n",
      "Total Population - Both sexes             1140605.00\n",
      "Tourist consumption                            90.00\n",
      "Name: Y2018, dtype: float64\n"
     ]
    }
   ],
   "source": [
    "print (food_balance_sheet8)\n",
    "#From the data below, domestic supply quantity has the highest sum in 2018"
   ]
  },
  {
   "cell_type": "code",
   "execution_count": 437,
   "id": "999cfeb3",
   "metadata": {},
   "outputs": [],
   "source": [
    "#Total Import Quantity in Algeria in 2018\n",
    "food_balance_sheet9 = food_balance_sheet.groupby(['Element','Area']) ['Y2018'].sum()"
   ]
  },
  {
   "cell_type": "code",
   "execution_count": 438,
   "id": "47ecf919",
   "metadata": {},
   "outputs": [
    {
     "name": "stdout",
     "output_type": "stream",
     "text": [
      "Element                   Area                 \n",
      "Domestic supply quantity  Algeria                  90023.42\n",
      "                          Angola                   59590.22\n",
      "                          Benin                    31447.90\n",
      "                          Botswana                  3045.85\n",
      "                          Burkina Faso             25705.16\n",
      "                                                     ...   \n",
      "Tourist consumption       Cabo Verde                   7.00\n",
      "                          Egypt                       23.00\n",
      "                          Kenya                       17.00\n",
      "                          Mauritius                   31.00\n",
      "                          Sao Tome and Principe       12.00\n",
      "Name: Y2018, Length: 803, dtype: float64\n"
     ]
    }
   ],
   "source": [
    "print (food_balance_sheet9)"
   ]
  },
  {
   "cell_type": "code",
   "execution_count": 445,
   "id": "600b3e98",
   "metadata": {},
   "outputs": [],
   "source": [
    "unique_countries =  food_balance_sheet.groupby('Area').count()"
   ]
  },
  {
   "cell_type": "code",
   "execution_count": 446,
   "id": "ee21213e",
   "metadata": {},
   "outputs": [
    {
     "name": "stdout",
     "output_type": "stream",
     "text": [
      "                             Area Code  Item Code  Item  Element Code  \\\n",
      "Area                                                                    \n",
      "Algeria                           1313       1313  1313          1313   \n",
      "Angola                            1424       1424  1424          1424   \n",
      "Benin                             1285       1285  1285          1285   \n",
      "Botswana                          1378       1378  1378          1378   \n",
      "Burkina Faso                      1409       1409  1409          1409   \n",
      "Cabo Verde                        1260       1260  1260          1260   \n",
      "Cameroon                          1460       1460  1460          1460   \n",
      "Central African Republic          1344       1344  1344          1344   \n",
      "Chad                              1343       1343  1343          1343   \n",
      "Comoros                             45         45    45            45   \n",
      "Congo                             1413       1413  1413          1413   \n",
      "Côte d'Ivoire                     1467       1467  1467          1467   \n",
      "Djibouti                          1095       1095  1095          1095   \n",
      "Egypt                             1488       1488  1488          1488   \n",
      "Eswatini                          1284       1284  1284          1284   \n",
      "Ethiopia                          1447       1447  1447          1447   \n",
      "Ethiopia PDR                        39         39    39            39   \n",
      "Gabon                             1245       1245  1245          1245   \n",
      "Gambia                            1168       1168  1168          1168   \n",
      "Ghana                             1354       1354  1354          1354   \n",
      "Guinea                            1410       1410  1410          1410   \n",
      "Guinea-Bissau                     1128       1128  1128          1128   \n",
      "Kenya                             1560       1560  1560          1560   \n",
      "Lesotho                           1150       1150  1150          1150   \n",
      "Liberia                           1206       1206  1206          1206   \n",
      "Madagascar                        1439       1439  1439          1439   \n",
      "Malawi                            1447       1447  1447          1447   \n",
      "Mali                              1293       1293  1293          1293   \n",
      "Mauritania                        1195       1195  1195          1195   \n",
      "Mauritius                         1378       1378  1378          1378   \n",
      "Morocco                           1393       1393  1393          1393   \n",
      "Mozambique                        1427       1427  1427          1427   \n",
      "Namibia                           1283       1283  1283          1283   \n",
      "Niger                             1403       1403  1403          1403   \n",
      "Nigeria                           1474       1474  1474          1474   \n",
      "Rwanda                            1426       1426  1426          1426   \n",
      "Sao Tome and Principe             1177       1177  1177          1177   \n",
      "Senegal                           1462       1462  1462          1462   \n",
      "Seychelles                          68         68    68            68   \n",
      "Sierra Leone                      1242       1242  1242          1242   \n",
      "South Africa                      1399       1399  1399          1399   \n",
      "Sudan                             1316       1316  1316          1316   \n",
      "Sudan (former)                      53         53    53            53   \n",
      "Togo                              1294       1294  1294          1294   \n",
      "Tunisia                           1338       1338  1338          1338   \n",
      "Uganda                            1458       1458  1458          1458   \n",
      "United Republic of Tanzania       1419       1419  1419          1419   \n",
      "Zambia                            1451       1451  1451          1451   \n",
      "Zimbabwe                          1393       1393  1393          1393   \n",
      "\n",
      "                             Element  Unit  Y2014  Y2015  Y2016  Y2017  Y2018  \n",
      "Area                                                                           \n",
      "Algeria                         1313  1313   1261   1268   1274   1279   1298  \n",
      "Angola                          1424  1424   1378   1378   1388   1407   1396  \n",
      "Benin                           1285  1285   1250   1260   1257   1253   1252  \n",
      "Botswana                        1378  1378   1361   1369   1365   1368   1361  \n",
      "Burkina Faso                    1409  1409   1382   1372   1392   1383   1373  \n",
      "Cabo Verde                      1260  1260   1231   1229   1200   1193   1192  \n",
      "Cameroon                        1460  1460   1450   1443   1443   1441   1432  \n",
      "Central African Republic        1344  1344   1300   1296   1314   1262   1308  \n",
      "Chad                            1343  1343   1284   1303   1265   1281   1305  \n",
      "Comoros                           45    45     45     45     45     45     45  \n",
      "Congo                           1413  1413   1382   1377   1377   1395   1377  \n",
      "Côte d'Ivoire                   1467  1467   1444   1447   1455   1454   1455  \n",
      "Djibouti                        1095  1095   1052   1058   1054   1061   1040  \n",
      "Egypt                           1488  1488   1461   1473   1470   1458   1468  \n",
      "Eswatini                        1284  1284   1265   1240   1255   1251   1231  \n",
      "Ethiopia                        1447  1447   1424   1430   1410   1428   1425  \n",
      "Ethiopia PDR                      39    39     39     39     39     39     39  \n",
      "Gabon                           1245  1245   1200   1202   1198   1206   1192  \n",
      "Gambia                          1168  1168   1121   1115   1111   1116   1118  \n",
      "Ghana                           1354  1354   1337   1333   1330   1333   1337  \n",
      "Guinea                          1410  1410   1345   1349   1373   1383   1385  \n",
      "Guinea-Bissau                   1128  1128   1044   1040   1054   1076   1091  \n",
      "Kenya                           1560  1560   1544   1542   1540   1548   1548  \n",
      "Lesotho                         1150  1150   1130   1097   1116   1110   1094  \n",
      "Liberia                         1206  1206   1135   1134   1124   1135   1133  \n",
      "Madagascar                      1439  1439   1416   1429   1431   1425   1424  \n",
      "Malawi                          1447  1447   1416   1400   1394   1411   1410  \n",
      "Mali                            1293  1293   1252   1256   1250   1243   1260  \n",
      "Mauritania                      1195  1195   1106   1152   1119   1108   1170  \n",
      "Mauritius                       1378  1378   1355   1352   1344   1340   1342  \n",
      "Morocco                         1393  1393   1354   1381   1378   1369   1368  \n",
      "Mozambique                      1427  1427   1396   1394   1401   1406   1400  \n",
      "Namibia                         1283  1283   1274   1270   1266   1269   1256  \n",
      "Niger                           1403  1403   1357   1367   1355   1365   1368  \n",
      "Nigeria                         1474  1474   1470   1458   1460   1457   1456  \n",
      "Rwanda                          1426  1426   1400   1378   1400   1397   1403  \n",
      "Sao Tome and Principe           1177  1177   1108   1125   1140   1122   1109  \n",
      "Senegal                         1462  1462   1448   1449   1452   1452   1448  \n",
      "Seychelles                        68    68     68     68     68     68     68  \n",
      "Sierra Leone                    1242  1242   1177   1181   1188   1191   1197  \n",
      "South Africa                    1399  1399   1394   1395   1395   1395   1396  \n",
      "Sudan                           1316  1316   1277   1260   1271   1279   1268  \n",
      "Sudan (former)                    53    53     53     53     53     53     53  \n",
      "Togo                            1294  1294   1219   1226   1243   1234   1266  \n",
      "Tunisia                         1338  1338   1304   1318   1314   1314   1320  \n",
      "Uganda                          1458  1458   1446   1446   1446   1435   1445  \n",
      "United Republic of Tanzania     1419  1419   1401   1405   1403   1409   1408  \n",
      "Zambia                          1451  1451   1424   1420   1430   1425   1421  \n",
      "Zimbabwe                        1393  1393   1374   1373   1358   1365   1356  \n"
     ]
    }
   ],
   "source": [
    "print(unique_countries)"
   ]
  },
  {
   "cell_type": "code",
   "execution_count": 452,
   "id": "f75cf961",
   "metadata": {},
   "outputs": [
    {
     "data": {
      "text/html": [
       "<div>\n",
       "<style scoped>\n",
       "    .dataframe tbody tr th:only-of-type {\n",
       "        vertical-align: middle;\n",
       "    }\n",
       "\n",
       "    .dataframe tbody tr th {\n",
       "        vertical-align: top;\n",
       "    }\n",
       "\n",
       "    .dataframe thead th {\n",
       "        text-align: right;\n",
       "    }\n",
       "</style>\n",
       "<table border=\"1\" class=\"dataframe\">\n",
       "  <thead>\n",
       "    <tr style=\"text-align: right;\">\n",
       "      <th></th>\n",
       "      <th>Age</th>\n",
       "      <th>Overall</th>\n",
       "    </tr>\n",
       "  </thead>\n",
       "  <tbody>\n",
       "    <tr>\n",
       "      <th>count</th>\n",
       "      <td>3.000000</td>\n",
       "      <td>3.0</td>\n",
       "    </tr>\n",
       "    <tr>\n",
       "      <th>mean</th>\n",
       "      <td>32.666667</td>\n",
       "      <td>93.0</td>\n",
       "    </tr>\n",
       "    <tr>\n",
       "      <th>std</th>\n",
       "      <td>2.516611</td>\n",
       "      <td>1.0</td>\n",
       "    </tr>\n",
       "    <tr>\n",
       "      <th>min</th>\n",
       "      <td>30.000000</td>\n",
       "      <td>92.0</td>\n",
       "    </tr>\n",
       "    <tr>\n",
       "      <th>25%</th>\n",
       "      <td>31.500000</td>\n",
       "      <td>92.5</td>\n",
       "    </tr>\n",
       "    <tr>\n",
       "      <th>50%</th>\n",
       "      <td>33.000000</td>\n",
       "      <td>93.0</td>\n",
       "    </tr>\n",
       "    <tr>\n",
       "      <th>75%</th>\n",
       "      <td>34.000000</td>\n",
       "      <td>93.5</td>\n",
       "    </tr>\n",
       "    <tr>\n",
       "      <th>max</th>\n",
       "      <td>35.000000</td>\n",
       "      <td>94.0</td>\n",
       "    </tr>\n",
       "  </tbody>\n",
       "</table>\n",
       "</div>"
      ],
      "text/plain": [
       "             Age  Overall\n",
       "count   3.000000      3.0\n",
       "mean   32.666667     93.0\n",
       "std     2.516611      1.0\n",
       "min    30.000000     92.0\n",
       "25%    31.500000     92.5\n",
       "50%    33.000000     93.0\n",
       "75%    34.000000     93.5\n",
       "max    35.000000     94.0"
      ]
     },
     "execution_count": 452,
     "metadata": {},
     "output_type": "execute_result"
    }
   ],
   "source": [
    "df.describe()"
   ]
  },
  {
   "cell_type": "code",
   "execution_count": 242,
   "id": "e2b8ea43",
   "metadata": {},
   "outputs": [],
   "source": [
    "lst = [[35,'Portugal',94],[33,'Argentina',93],[30,'Brazil',92]]\n",
    "col = ['Age', 'Nationality','Overall']"
   ]
  },
  {
   "cell_type": "code",
   "execution_count": 243,
   "id": "dcb32f11",
   "metadata": {},
   "outputs": [],
   "source": [
    "df= pd.DataFrame(lst,columns = col, index = [i for i in range(1,4)])"
   ]
  },
  {
   "cell_type": "code",
   "execution_count": 177,
   "id": "eee11001",
   "metadata": {},
   "outputs": [
    {
     "name": "stdout",
     "output_type": "stream",
     "text": [
      "   Age Nationality  Overall\n",
      "1   35    Portugal       94\n",
      "2   33   Argentina       93\n",
      "3   30      Brazil       92\n"
     ]
    }
   ],
   "source": [
    "print (df)"
   ]
  },
  {
   "cell_type": "code",
   "execution_count": 190,
   "id": "c3e2c6fc",
   "metadata": {},
   "outputs": [],
   "source": [
    "Marks = np.array([[94, 89, 63], \n",
    "         [93, 92, 48], \n",
    "         [92, 94, 56]])"
   ]
  },
  {
   "cell_type": "code",
   "execution_count": 197,
   "id": "c8f01a03",
   "metadata": {},
   "outputs": [
    {
     "name": "stdout",
     "output_type": "stream",
     "text": [
      "[[93 92]\n",
      " [92 94]]\n"
     ]
    }
   ],
   "source": [
    "print (Marks[1:,:2])"
   ]
  },
  {
   "cell_type": "code",
   "execution_count": 198,
   "id": "59953469",
   "metadata": {},
   "outputs": [],
   "source": [
    "my_tuppy = (1,2,5,8)"
   ]
  },
  {
   "cell_type": "code",
   "execution_count": 200,
   "id": "c1aa9aaa",
   "metadata": {},
   "outputs": [],
   "source": [
    "y = [(2,4),(7,8),(1,5,9)]"
   ]
  },
  {
   "cell_type": "code",
   "execution_count": 201,
   "id": "6ab6ab40",
   "metadata": {},
   "outputs": [],
   "source": [
    "x = y[1][1]"
   ]
  },
  {
   "cell_type": "code",
   "execution_count": 202,
   "id": "9240e63f",
   "metadata": {},
   "outputs": [
    {
     "name": "stdout",
     "output_type": "stream",
     "text": [
      "8\n"
     ]
    }
   ],
   "source": [
    "print (x)"
   ]
  },
  {
   "cell_type": "code",
   "execution_count": null,
   "id": "706f1dad",
   "metadata": {},
   "outputs": [],
   "source": []
  }
 ],
 "metadata": {
  "kernelspec": {
   "display_name": "Python 3 (ipykernel)",
   "language": "python",
   "name": "python3"
  },
  "language_info": {
   "codemirror_mode": {
    "name": "ipython",
    "version": 3
   },
   "file_extension": ".py",
   "mimetype": "text/x-python",
   "name": "python",
   "nbconvert_exporter": "python",
   "pygments_lexer": "ipython3",
   "version": "3.9.7"
  }
 },
 "nbformat": 4,
 "nbformat_minor": 5
}
